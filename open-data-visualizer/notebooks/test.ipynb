{
 "cells": [
  {
   "cell_type": "code",
   "execution_count": 26,
   "id": "e3aea9ea",
   "metadata": {},
   "outputs": [],
   "source": [
    "import sys\n",
    "import polars as pl\n",
    "from pathlib import Path"
   ]
  },
  {
   "cell_type": "code",
   "execution_count": 56,
   "id": "aa09b6b5",
   "metadata": {},
   "outputs": [],
   "source": [
    "DATA_FOLDER = 'data'\n",
    "FOOD_HICP_DK='CP0110DKM086NEST.csv'\n",
    "FOOD_HICP_NL='CP0110NLM086NEST.csv'\n",
    "ALL_HICP_DK='CP0000DKM086NEST.csv' \n",
    "ALL_HICP_NL='CP0000NLM086NEST.csv' \n"
   ]
  },
  {
   "cell_type": "code",
   "execution_count": 62,
   "id": "53402d3c",
   "metadata": {},
   "outputs": [
    {
     "data": {
      "text/html": [
       "<div><style>\n",
       ".dataframe > thead > tr,\n",
       ".dataframe > tbody > tr {\n",
       "  text-align: right;\n",
       "  white-space: pre-wrap;\n",
       "}\n",
       "</style>\n",
       "<small>shape: (353, 2)</small><table border=\"1\" class=\"dataframe\"><thead><tr><th>observation_date</th><th>CP0110DKM086NEST</th></tr><tr><td>date</td><td>f64</td></tr></thead><tbody><tr><td>1996-01-01</td><td>68.6</td></tr><tr><td>1996-02-01</td><td>68.8</td></tr><tr><td>1996-03-01</td><td>69.1</td></tr><tr><td>1996-04-01</td><td>69.3</td></tr><tr><td>1996-05-01</td><td>69.7</td></tr><tr><td>&hellip;</td><td>&hellip;</td></tr><tr><td>2025-01-01</td><td>133.9</td></tr><tr><td>2025-02-01</td><td>134.9</td></tr><tr><td>2025-03-01</td><td>135.1</td></tr><tr><td>2025-04-01</td><td>135.4</td></tr><tr><td>2025-05-01</td><td>136.8</td></tr></tbody></table></div>"
      ],
      "text/plain": [
       "shape: (353, 2)\n",
       "┌──────────────────┬──────────────────┐\n",
       "│ observation_date ┆ CP0110DKM086NEST │\n",
       "│ ---              ┆ ---              │\n",
       "│ date             ┆ f64              │\n",
       "╞══════════════════╪══════════════════╡\n",
       "│ 1996-01-01       ┆ 68.6             │\n",
       "│ 1996-02-01       ┆ 68.8             │\n",
       "│ 1996-03-01       ┆ 69.1             │\n",
       "│ 1996-04-01       ┆ 69.3             │\n",
       "│ 1996-05-01       ┆ 69.7             │\n",
       "│ …                ┆ …                │\n",
       "│ 2025-01-01       ┆ 133.9            │\n",
       "│ 2025-02-01       ┆ 134.9            │\n",
       "│ 2025-03-01       ┆ 135.1            │\n",
       "│ 2025-04-01       ┆ 135.4            │\n",
       "│ 2025-05-01       ┆ 136.8            │\n",
       "└──────────────────┴──────────────────┘"
      ]
     },
     "execution_count": 62,
     "metadata": {},
     "output_type": "execute_result"
    }
   ],
   "source": [
    "# Get current working directory\n",
    "cwd = Path.cwd()\n",
    "\n",
    "# Get parent directory\n",
    "parent_dir = cwd.parent\n",
    "\n",
    "# Get data directory\n",
    "data_dir = Path(parent_dir).joinpath(DATA_FOLDER)\n",
    "\n",
    "# Get DK HCPI data\n",
    "try:\n",
    "    food_hicp_dk_df = pl.read_csv(data_dir.joinpath(FOOD_HICP_DK))\n",
    "    all_hicp_dk_df = pl.read_csv(data_dir.joinpath(ALL_HICP_DK))\n",
    "    food_hicp_nl_df = pl.read_csv(data_dir.joinpath(FOOD_HICP_NL))\n",
    "    all_hicp_nl_df = pl.read_csv(data_dir.joinpath(ALL_HICP_NL))\n",
    "except FileNotFoundError as er:\n",
    "    print(er)\n",
    "    sys.exit('Abort')\n",
    "\n",
    "food_hicp_dk_df = food_hicp_dk_df.with_columns(pl.col(\"observation_date\").str.strptime(pl.Date, format=\"%Y-%m-%d\"))\n",
    "all_hicp_dk_df = all_hicp_dk_df.with_columns(pl.col(\"observation_date\").str.strptime(pl.Date, format=\"%Y-%m-%d\"))\n",
    "food_hicp_nl_df = food_hicp_nl_df.with_columns(pl.col(\"observation_date\").str.strptime(pl.Date, format=\"%Y-%m-%d\"))\n",
    "all_hicp_nl_df = all_hicp_nl_df.with_columns(pl.col(\"observation_date\").str.strptime(pl.Date, format=\"%Y-%m-%d\"))\n",
    "\n",
    "food_hicp_dk_df"
   ]
  },
  {
   "cell_type": "code",
   "execution_count": 63,
   "id": "3d58b126",
   "metadata": {},
   "outputs": [
    {
     "data": {
      "text/html": [
       "<div><style>\n",
       ".dataframe > thead > tr,\n",
       ".dataframe > tbody > tr {\n",
       "  text-align: right;\n",
       "  white-space: pre-wrap;\n",
       "}\n",
       "</style>\n",
       "<small>shape: (353, 2)</small><table border=\"1\" class=\"dataframe\"><thead><tr><th>observation_date</th><th>CP0000DKM086NEST</th></tr><tr><td>date</td><td>f64</td></tr></thead><tbody><tr><td>1996-01-01</td><td>70.4</td></tr><tr><td>1996-02-01</td><td>70.8</td></tr><tr><td>1996-03-01</td><td>71.3</td></tr><tr><td>1996-04-01</td><td>71.5</td></tr><tr><td>1996-05-01</td><td>71.7</td></tr><tr><td>&hellip;</td><td>&hellip;</td></tr><tr><td>2025-01-01</td><td>119.9</td></tr><tr><td>2025-02-01</td><td>121.1</td></tr><tr><td>2025-03-01</td><td>120.4</td></tr><tr><td>2025-04-01</td><td>120.5</td></tr><tr><td>2025-05-01</td><td>120.5</td></tr></tbody></table></div>"
      ],
      "text/plain": [
       "shape: (353, 2)\n",
       "┌──────────────────┬──────────────────┐\n",
       "│ observation_date ┆ CP0000DKM086NEST │\n",
       "│ ---              ┆ ---              │\n",
       "│ date             ┆ f64              │\n",
       "╞══════════════════╪══════════════════╡\n",
       "│ 1996-01-01       ┆ 70.4             │\n",
       "│ 1996-02-01       ┆ 70.8             │\n",
       "│ 1996-03-01       ┆ 71.3             │\n",
       "│ 1996-04-01       ┆ 71.5             │\n",
       "│ 1996-05-01       ┆ 71.7             │\n",
       "│ …                ┆ …                │\n",
       "│ 2025-01-01       ┆ 119.9            │\n",
       "│ 2025-02-01       ┆ 121.1            │\n",
       "│ 2025-03-01       ┆ 120.4            │\n",
       "│ 2025-04-01       ┆ 120.5            │\n",
       "│ 2025-05-01       ┆ 120.5            │\n",
       "└──────────────────┴──────────────────┘"
      ]
     },
     "execution_count": 63,
     "metadata": {},
     "output_type": "execute_result"
    }
   ],
   "source": [
    "all_hicp_dk_df"
   ]
  },
  {
   "cell_type": "code",
   "execution_count": 64,
   "id": "4f52990c",
   "metadata": {},
   "outputs": [
    {
     "data": {
      "text/html": [
       "<div><style>\n",
       ".dataframe > thead > tr,\n",
       ".dataframe > tbody > tr {\n",
       "  text-align: right;\n",
       "  white-space: pre-wrap;\n",
       "}\n",
       "</style>\n",
       "<small>shape: (353, 2)</small><table border=\"1\" class=\"dataframe\"><thead><tr><th>observation_date</th><th>CP0110NLM086NEST</th></tr><tr><td>date</td><td>f64</td></tr></thead><tbody><tr><td>1996-01-01</td><td>74.34</td></tr><tr><td>1996-02-01</td><td>74.64</td></tr><tr><td>1996-03-01</td><td>76.12</td></tr><tr><td>1996-04-01</td><td>75.98</td></tr><tr><td>1996-05-01</td><td>74.71</td></tr><tr><td>&hellip;</td><td>&hellip;</td></tr><tr><td>2025-01-01</td><td>141.27</td></tr><tr><td>2025-02-01</td><td>142.89</td></tr><tr><td>2025-03-01</td><td>142.95</td></tr><tr><td>2025-04-01</td><td>143.15</td></tr><tr><td>2025-05-01</td><td>144.22</td></tr></tbody></table></div>"
      ],
      "text/plain": [
       "shape: (353, 2)\n",
       "┌──────────────────┬──────────────────┐\n",
       "│ observation_date ┆ CP0110NLM086NEST │\n",
       "│ ---              ┆ ---              │\n",
       "│ date             ┆ f64              │\n",
       "╞══════════════════╪══════════════════╡\n",
       "│ 1996-01-01       ┆ 74.34            │\n",
       "│ 1996-02-01       ┆ 74.64            │\n",
       "│ 1996-03-01       ┆ 76.12            │\n",
       "│ 1996-04-01       ┆ 75.98            │\n",
       "│ 1996-05-01       ┆ 74.71            │\n",
       "│ …                ┆ …                │\n",
       "│ 2025-01-01       ┆ 141.27           │\n",
       "│ 2025-02-01       ┆ 142.89           │\n",
       "│ 2025-03-01       ┆ 142.95           │\n",
       "│ 2025-04-01       ┆ 143.15           │\n",
       "│ 2025-05-01       ┆ 144.22           │\n",
       "└──────────────────┴──────────────────┘"
      ]
     },
     "execution_count": 64,
     "metadata": {},
     "output_type": "execute_result"
    }
   ],
   "source": [
    "food_hicp_nl_df"
   ]
  },
  {
   "cell_type": "code",
   "execution_count": 53,
   "id": "3f661ac2",
   "metadata": {},
   "outputs": [
    {
     "data": {
      "text/html": [
       "<div><style>\n",
       ".dataframe > thead > tr,\n",
       ".dataframe > tbody > tr {\n",
       "  text-align: right;\n",
       "  white-space: pre-wrap;\n",
       "}\n",
       "</style>\n",
       "<small>shape: (767, 2)</small><table border=\"1\" class=\"dataframe\"><thead><tr><th>observation_date</th><th>CPALTT01NLM657N</th></tr><tr><td>date</td><td>f64</td></tr></thead><tbody><tr><td>1960-04-01</td><td>0.128234</td></tr><tr><td>1960-05-01</td><td>-0.961538</td></tr><tr><td>1960-06-01</td><td>-0.970874</td></tr><tr><td>1960-07-01</td><td>0.0</td></tr><tr><td>1960-08-01</td><td>-0.980392</td></tr><tr><td>&hellip;</td><td>&hellip;</td></tr><tr><td>2023-10-01</td><td>0.448254</td></tr><tr><td>2023-11-01</td><td>-1.041259</td></tr><tr><td>2023-12-01</td><td>0.039557</td></tr><tr><td>2024-01-01</td><td>0.521945</td></tr><tr><td>2024-02-01</td><td>0.660845</td></tr></tbody></table></div>"
      ],
      "text/plain": [
       "shape: (767, 2)\n",
       "┌──────────────────┬─────────────────┐\n",
       "│ observation_date ┆ CPALTT01NLM657N │\n",
       "│ ---              ┆ ---             │\n",
       "│ date             ┆ f64             │\n",
       "╞══════════════════╪═════════════════╡\n",
       "│ 1960-04-01       ┆ 0.128234        │\n",
       "│ 1960-05-01       ┆ -0.961538       │\n",
       "│ 1960-06-01       ┆ -0.970874       │\n",
       "│ 1960-07-01       ┆ 0.0             │\n",
       "│ 1960-08-01       ┆ -0.980392       │\n",
       "│ …                ┆ …               │\n",
       "│ 2023-10-01       ┆ 0.448254        │\n",
       "│ 2023-11-01       ┆ -1.041259       │\n",
       "│ 2023-12-01       ┆ 0.039557        │\n",
       "│ 2024-01-01       ┆ 0.521945        │\n",
       "│ 2024-02-01       ┆ 0.660845        │\n",
       "└──────────────────┴─────────────────┘"
      ]
     },
     "execution_count": 53,
     "metadata": {},
     "output_type": "execute_result"
    }
   ],
   "source": [
    "df_nl_total = pl.read_csv(\n",
    "    \"https://fred.stlouisfed.org/graph/fredgraph.csv?id=CPALTT01NLM657N\",\n",
    "    try_parse_dates=True\n",
    ")\n",
    "df_nl_total\n",
    "# df_nl_total = pl.read_csv(\n",
    "#     \"https://fred.stlouisfed.org/graph/fredgraph.csv?id=CP0000NLM086NEST\",\n",
    "#     try_parse_dates=True\n",
    "# )\n",
    "# df_nl_total"
   ]
  }
 ],
 "metadata": {
  "kernelspec": {
   "display_name": "venv",
   "language": "python",
   "name": "python3"
  },
  "language_info": {
   "codemirror_mode": {
    "name": "ipython",
    "version": 3
   },
   "file_extension": ".py",
   "mimetype": "text/x-python",
   "name": "python",
   "nbconvert_exporter": "python",
   "pygments_lexer": "ipython3",
   "version": "3.12.10"
  }
 },
 "nbformat": 4,
 "nbformat_minor": 5
}
